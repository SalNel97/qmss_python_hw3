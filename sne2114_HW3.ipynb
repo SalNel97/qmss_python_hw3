{
  "nbformat": 4,
  "nbformat_minor": 0,
  "metadata": {
    "colab": {
      "name": "sne2114_HW3.ipynb",
      "provenance": [],
      "collapsed_sections": [],
      "include_colab_link": true
    },
    "kernelspec": {
      "name": "python3",
      "display_name": "Python 3"
    },
    "language_info": {
      "name": "python"
    }
  },
  "cells": [
    {
      "cell_type": "markdown",
      "metadata": {
        "id": "view-in-github",
        "colab_type": "text"
      },
      "source": [
        "<a href=\"https://colab.research.google.com/github/SalNel97/qmss_python_hw3/blob/main/sne2114_HW3.ipynb\" target=\"_parent\"><img src=\"https://colab.research.google.com/assets/colab-badge.svg\" alt=\"Open In Colab\"/></a>"
      ]
    },
    {
      "cell_type": "markdown",
      "metadata": {
        "id": "_jIXJNuMHFmH"
      },
      "source": [
        "**QMSS S5073**\n",
        "# ***Homework 3***\n",
        "**Salah El-Sadek (sne2114)**\n",
        "\n",
        "---"
      ]
    },
    {
      "cell_type": "markdown",
      "metadata": {
        "id": "eXP8FbwgqNOo"
      },
      "source": [
        "#**Data Preparation**"
      ]
    },
    {
      "cell_type": "code",
      "metadata": {
        "id": "eve6b5GUjFMZ"
      },
      "source": [
        "%matplotlib inline\n",
        "\n",
        "import warnings\n",
        "warnings.simplefilter(\"ignore\", UserWarning)\n",
        "\n",
        "# Importing relevant libraries\n",
        "import numpy as np\n",
        "import scipy as sp\n",
        "import pandas as pd\n",
        "import matplotlib as mpl\n",
        "import seaborn as sns\n",
        "from sklearn.pipeline import make_pipeline\n",
        "\n"
      ],
      "execution_count": 289,
      "outputs": []
    },
    {
      "cell_type": "markdown",
      "metadata": {
        "id": "Wrqb6f4Fk7gs"
      },
      "source": [
        "*First, import the red wine csv file into a pandas dataframe from the following website:*\n",
        "\n",
        "https://archive.ics.uci.edu/ml/machine-learning-databases/wine-quality/\n",
        "\n",
        "*(Note: you need to adjust the argument for read_csv() from sep=',' to sep=';')*\n",
        "\n",
        "*Use the wine quality data set to answer the following questions. Present any figures that assist you in your analysis:*"
      ]
    },
    {
      "cell_type": "code",
      "metadata": {
        "colab": {
          "base_uri": "https://localhost:8080/",
          "height": 417
        },
        "id": "9INyPHQtlCpW",
        "outputId": "fe07fea2-db6c-4221-f713-e4b82369abcf"
      },
      "source": [
        "df = pd.read_csv(\"https://archive.ics.uci.edu/ml/machine-learning-databases/wine-quality/winequality-red.csv\", sep = ';')\n",
        "df"
      ],
      "execution_count": 290,
      "outputs": [
        {
          "output_type": "execute_result",
          "data": {
            "text/html": [
              "<div>\n",
              "<style scoped>\n",
              "    .dataframe tbody tr th:only-of-type {\n",
              "        vertical-align: middle;\n",
              "    }\n",
              "\n",
              "    .dataframe tbody tr th {\n",
              "        vertical-align: top;\n",
              "    }\n",
              "\n",
              "    .dataframe thead th {\n",
              "        text-align: right;\n",
              "    }\n",
              "</style>\n",
              "<table border=\"1\" class=\"dataframe\">\n",
              "  <thead>\n",
              "    <tr style=\"text-align: right;\">\n",
              "      <th></th>\n",
              "      <th>fixed acidity</th>\n",
              "      <th>volatile acidity</th>\n",
              "      <th>citric acid</th>\n",
              "      <th>residual sugar</th>\n",
              "      <th>chlorides</th>\n",
              "      <th>free sulfur dioxide</th>\n",
              "      <th>total sulfur dioxide</th>\n",
              "      <th>density</th>\n",
              "      <th>pH</th>\n",
              "      <th>sulphates</th>\n",
              "      <th>alcohol</th>\n",
              "      <th>quality</th>\n",
              "    </tr>\n",
              "  </thead>\n",
              "  <tbody>\n",
              "    <tr>\n",
              "      <th>0</th>\n",
              "      <td>7.4</td>\n",
              "      <td>0.700</td>\n",
              "      <td>0.00</td>\n",
              "      <td>1.9</td>\n",
              "      <td>0.076</td>\n",
              "      <td>11.0</td>\n",
              "      <td>34.0</td>\n",
              "      <td>0.99780</td>\n",
              "      <td>3.51</td>\n",
              "      <td>0.56</td>\n",
              "      <td>9.4</td>\n",
              "      <td>5</td>\n",
              "    </tr>\n",
              "    <tr>\n",
              "      <th>1</th>\n",
              "      <td>7.8</td>\n",
              "      <td>0.880</td>\n",
              "      <td>0.00</td>\n",
              "      <td>2.6</td>\n",
              "      <td>0.098</td>\n",
              "      <td>25.0</td>\n",
              "      <td>67.0</td>\n",
              "      <td>0.99680</td>\n",
              "      <td>3.20</td>\n",
              "      <td>0.68</td>\n",
              "      <td>9.8</td>\n",
              "      <td>5</td>\n",
              "    </tr>\n",
              "    <tr>\n",
              "      <th>2</th>\n",
              "      <td>7.8</td>\n",
              "      <td>0.760</td>\n",
              "      <td>0.04</td>\n",
              "      <td>2.3</td>\n",
              "      <td>0.092</td>\n",
              "      <td>15.0</td>\n",
              "      <td>54.0</td>\n",
              "      <td>0.99700</td>\n",
              "      <td>3.26</td>\n",
              "      <td>0.65</td>\n",
              "      <td>9.8</td>\n",
              "      <td>5</td>\n",
              "    </tr>\n",
              "    <tr>\n",
              "      <th>3</th>\n",
              "      <td>11.2</td>\n",
              "      <td>0.280</td>\n",
              "      <td>0.56</td>\n",
              "      <td>1.9</td>\n",
              "      <td>0.075</td>\n",
              "      <td>17.0</td>\n",
              "      <td>60.0</td>\n",
              "      <td>0.99800</td>\n",
              "      <td>3.16</td>\n",
              "      <td>0.58</td>\n",
              "      <td>9.8</td>\n",
              "      <td>6</td>\n",
              "    </tr>\n",
              "    <tr>\n",
              "      <th>4</th>\n",
              "      <td>7.4</td>\n",
              "      <td>0.700</td>\n",
              "      <td>0.00</td>\n",
              "      <td>1.9</td>\n",
              "      <td>0.076</td>\n",
              "      <td>11.0</td>\n",
              "      <td>34.0</td>\n",
              "      <td>0.99780</td>\n",
              "      <td>3.51</td>\n",
              "      <td>0.56</td>\n",
              "      <td>9.4</td>\n",
              "      <td>5</td>\n",
              "    </tr>\n",
              "    <tr>\n",
              "      <th>...</th>\n",
              "      <td>...</td>\n",
              "      <td>...</td>\n",
              "      <td>...</td>\n",
              "      <td>...</td>\n",
              "      <td>...</td>\n",
              "      <td>...</td>\n",
              "      <td>...</td>\n",
              "      <td>...</td>\n",
              "      <td>...</td>\n",
              "      <td>...</td>\n",
              "      <td>...</td>\n",
              "      <td>...</td>\n",
              "    </tr>\n",
              "    <tr>\n",
              "      <th>1594</th>\n",
              "      <td>6.2</td>\n",
              "      <td>0.600</td>\n",
              "      <td>0.08</td>\n",
              "      <td>2.0</td>\n",
              "      <td>0.090</td>\n",
              "      <td>32.0</td>\n",
              "      <td>44.0</td>\n",
              "      <td>0.99490</td>\n",
              "      <td>3.45</td>\n",
              "      <td>0.58</td>\n",
              "      <td>10.5</td>\n",
              "      <td>5</td>\n",
              "    </tr>\n",
              "    <tr>\n",
              "      <th>1595</th>\n",
              "      <td>5.9</td>\n",
              "      <td>0.550</td>\n",
              "      <td>0.10</td>\n",
              "      <td>2.2</td>\n",
              "      <td>0.062</td>\n",
              "      <td>39.0</td>\n",
              "      <td>51.0</td>\n",
              "      <td>0.99512</td>\n",
              "      <td>3.52</td>\n",
              "      <td>0.76</td>\n",
              "      <td>11.2</td>\n",
              "      <td>6</td>\n",
              "    </tr>\n",
              "    <tr>\n",
              "      <th>1596</th>\n",
              "      <td>6.3</td>\n",
              "      <td>0.510</td>\n",
              "      <td>0.13</td>\n",
              "      <td>2.3</td>\n",
              "      <td>0.076</td>\n",
              "      <td>29.0</td>\n",
              "      <td>40.0</td>\n",
              "      <td>0.99574</td>\n",
              "      <td>3.42</td>\n",
              "      <td>0.75</td>\n",
              "      <td>11.0</td>\n",
              "      <td>6</td>\n",
              "    </tr>\n",
              "    <tr>\n",
              "      <th>1597</th>\n",
              "      <td>5.9</td>\n",
              "      <td>0.645</td>\n",
              "      <td>0.12</td>\n",
              "      <td>2.0</td>\n",
              "      <td>0.075</td>\n",
              "      <td>32.0</td>\n",
              "      <td>44.0</td>\n",
              "      <td>0.99547</td>\n",
              "      <td>3.57</td>\n",
              "      <td>0.71</td>\n",
              "      <td>10.2</td>\n",
              "      <td>5</td>\n",
              "    </tr>\n",
              "    <tr>\n",
              "      <th>1598</th>\n",
              "      <td>6.0</td>\n",
              "      <td>0.310</td>\n",
              "      <td>0.47</td>\n",
              "      <td>3.6</td>\n",
              "      <td>0.067</td>\n",
              "      <td>18.0</td>\n",
              "      <td>42.0</td>\n",
              "      <td>0.99549</td>\n",
              "      <td>3.39</td>\n",
              "      <td>0.66</td>\n",
              "      <td>11.0</td>\n",
              "      <td>6</td>\n",
              "    </tr>\n",
              "  </tbody>\n",
              "</table>\n",
              "<p>1599 rows × 12 columns</p>\n",
              "</div>"
            ],
            "text/plain": [
              "      fixed acidity  volatile acidity  citric acid  ...  sulphates  alcohol  quality\n",
              "0               7.4             0.700         0.00  ...       0.56      9.4        5\n",
              "1               7.8             0.880         0.00  ...       0.68      9.8        5\n",
              "2               7.8             0.760         0.04  ...       0.65      9.8        5\n",
              "3              11.2             0.280         0.56  ...       0.58      9.8        6\n",
              "4               7.4             0.700         0.00  ...       0.56      9.4        5\n",
              "...             ...               ...          ...  ...        ...      ...      ...\n",
              "1594            6.2             0.600         0.08  ...       0.58     10.5        5\n",
              "1595            5.9             0.550         0.10  ...       0.76     11.2        6\n",
              "1596            6.3             0.510         0.13  ...       0.75     11.0        6\n",
              "1597            5.9             0.645         0.12  ...       0.71     10.2        5\n",
              "1598            6.0             0.310         0.47  ...       0.66     11.0        6\n",
              "\n",
              "[1599 rows x 12 columns]"
            ]
          },
          "metadata": {
            "tags": []
          },
          "execution_count": 290
        }
      ]
    },
    {
      "cell_type": "markdown",
      "metadata": {
        "id": "lYqpWYSXo9PJ"
      },
      "source": [
        "##**Question 1**"
      ]
    },
    {
      "cell_type": "markdown",
      "metadata": {
        "id": "pZIZxll0o_g9"
      },
      "source": [
        "*Use K Means Cluster Analysis to identify cluster(s) of observations that have high and low values of the wine quality. (Assume all variables are continuous.)*"
      ]
    },
    {
      "cell_type": "markdown",
      "metadata": {
        "id": "LS73XfQCSEm0"
      },
      "source": [
        "**Scaling data and looking at their scatter plot.**"
      ]
    },
    {
      "cell_type": "code",
      "metadata": {
        "colab": {
          "base_uri": "https://localhost:8080/",
          "height": 265
        },
        "id": "CnYIdI5BPcig",
        "outputId": "9a7b1a8e-bd21-4699-bd72-f6b57f89c235"
      },
      "source": [
        "from sklearn.preprocessing import scale\n",
        "import matplotlib.pyplot as plt\n",
        "\n",
        "X = pd.DataFrame(scale(df), index=df.index, columns=df.columns)\n",
        "plt.scatter(X.iloc[:, 0], X.iloc[:, 1], s=50);"
      ],
      "execution_count": 291,
      "outputs": [
        {
          "output_type": "display_data",
          "data": {
            "image/png": "[encoded data removed]",
            "text/plain": [
              "<Figure size 432x288 with 1 Axes>"
            ]
          },
          "metadata": {
            "tags": [],
            "needs_background": "light"
          }
        }
      ]
    },
    {
      "cell_type": "markdown",
      "metadata": {
        "id": "h8zLekPmoKSZ"
      },
      "source": [
        "**No clear separation of groups or 'clusters' seen visually. Further exploration with K-Means clustering.**"
      ]
    },
    {
      "cell_type": "markdown",
      "metadata": {
        "id": "TSnVJJwzSPFZ"
      },
      "source": [
        "**Evaluating K using elbow chart of K values ranging from 2 to 20.**"
      ]
    },
    {
      "cell_type": "code",
      "metadata": {
        "id": "-3Gr5kqkpCog",
        "colab": {
          "base_uri": "https://localhost:8080/",
          "height": 367
        },
        "outputId": "6245dc06-4b47-47cc-8480-0f6925bfe79f"
      },
      "source": [
        "from sklearn.cluster import KMeans\n",
        "\n",
        "within_cluster_variance = []\n",
        "\n",
        "# Using the range of k=2 to k=20\n",
        "for k in range(2, 20):\n",
        "    kmeans = KMeans(n_clusters=k)\n",
        "    kmeans.fit(X)\n",
        "    within_cluster_variance.append(kmeans.inertia_)\n",
        "\n",
        "fig = plt.figure(figsize=(15, 5))\n",
        "plt.plot(range(2, 20), within_cluster_variance, marker='o')\n",
        "plt.grid(True)\n",
        "plt.xlabel('Number of clusters')\n",
        "plt.ylabel('Reduction in within cluster variation')\n",
        "\n",
        "plt.title('Elbow curve') "
      ],
      "execution_count": 292,
      "outputs": [
        {
          "output_type": "execute_result",
          "data": {
            "text/plain": [
              "Text(0.5, 1.0, 'Elbow curve')"
            ]
          },
          "metadata": {
            "tags": []
          },
          "execution_count": 292
        },
        {
          "output_type": "display_data",
          "data": {
            "image/png": "[encoded data removed]",
            "text/plain": [
              "<Figure size 1080x360 with 1 Axes>"
            ]
          },
          "metadata": {
            "tags": [],
            "needs_background": "light"
          }
        }
      ]
    },
    {
      "cell_type": "markdown",
      "metadata": {
        "id": "tuDDEJIBSX9P"
      },
      "source": [
        "**No sharply defined elbow so we will approximate the ideal K value to be either 3 or 4.**"
      ]
    },
    {
      "cell_type": "markdown",
      "metadata": {
        "id": "yElShCqST9LL"
      },
      "source": [
        "###**K = 3**"
      ]
    },
    {
      "cell_type": "code",
      "metadata": {
        "colab": {
          "base_uri": "https://localhost:8080/",
          "height": 239
        },
        "id": "HeefA89FT9LN",
        "outputId": "66d23923-b992-44ee-9f77-c36f9df42e8c"
      },
      "source": [
        "km3 = KMeans(n_clusters=3, n_init=20)\n",
        "km3.fit(X)\n",
        "\n",
        "X['cluster'] = km3.labels_\n",
        "display(X.groupby('cluster').mean())\n",
        "pd.Series(km3.labels_).value_counts()"
      ],
      "execution_count": 293,
      "outputs": [
        {
          "output_type": "display_data",
          "data": {
            "text/html": [
              "<div>\n",
              "<style scoped>\n",
              "    .dataframe tbody tr th:only-of-type {\n",
              "        vertical-align: middle;\n",
              "    }\n",
              "\n",
              "    .dataframe tbody tr th {\n",
              "        vertical-align: top;\n",
              "    }\n",
              "\n",
              "    .dataframe thead th {\n",
              "        text-align: right;\n",
              "    }\n",
              "</style>\n",
              "<table border=\"1\" class=\"dataframe\">\n",
              "  <thead>\n",
              "    <tr style=\"text-align: right;\">\n",
              "      <th></th>\n",
              "      <th>fixed acidity</th>\n",
              "      <th>volatile acidity</th>\n",
              "      <th>citric acid</th>\n",
              "      <th>residual sugar</th>\n",
              "      <th>chlorides</th>\n",
              "      <th>free sulfur dioxide</th>\n",
              "      <th>total sulfur dioxide</th>\n",
              "      <th>density</th>\n",
              "      <th>pH</th>\n",
              "      <th>sulphates</th>\n",
              "      <th>alcohol</th>\n",
              "      <th>quality</th>\n",
              "    </tr>\n",
              "    <tr>\n",
              "      <th>cluster</th>\n",
              "      <th></th>\n",
              "      <th></th>\n",
              "      <th></th>\n",
              "      <th></th>\n",
              "      <th></th>\n",
              "      <th></th>\n",
              "      <th></th>\n",
              "      <th></th>\n",
              "      <th></th>\n",
              "      <th></th>\n",
              "      <th></th>\n",
              "      <th></th>\n",
              "    </tr>\n",
              "  </thead>\n",
              "  <tbody>\n",
              "    <tr>\n",
              "      <th>0</th>\n",
              "      <td>-0.646544</td>\n",
              "      <td>0.501291</td>\n",
              "      <td>-0.783764</td>\n",
              "      <td>-0.228483</td>\n",
              "      <td>-0.171032</td>\n",
              "      <td>-0.260539</td>\n",
              "      <td>-0.371498</td>\n",
              "      <td>-0.425494</td>\n",
              "      <td>0.620381</td>\n",
              "      <td>-0.320930</td>\n",
              "      <td>0.029444</td>\n",
              "      <td>-0.160536</td>\n",
              "    </tr>\n",
              "    <tr>\n",
              "      <th>1</th>\n",
              "      <td>-0.064045</td>\n",
              "      <td>0.050084</td>\n",
              "      <td>0.099918</td>\n",
              "      <td>0.361867</td>\n",
              "      <td>-0.002867</td>\n",
              "      <td>1.024745</td>\n",
              "      <td>1.267761</td>\n",
              "      <td>0.296404</td>\n",
              "      <td>-0.171839</td>\n",
              "      <td>-0.181772</td>\n",
              "      <td>-0.546743</td>\n",
              "      <td>-0.437077</td>\n",
              "    </tr>\n",
              "    <tr>\n",
              "      <th>2</th>\n",
              "      <td>0.945322</td>\n",
              "      <td>-0.733277</td>\n",
              "      <td>1.008401</td>\n",
              "      <td>0.036195</td>\n",
              "      <td>0.239164</td>\n",
              "      <td>-0.432930</td>\n",
              "      <td>-0.467475</td>\n",
              "      <td>0.359844</td>\n",
              "      <td>-0.726336</td>\n",
              "      <td>0.585427</td>\n",
              "      <td>0.382773</td>\n",
              "      <td>0.561007</td>\n",
              "    </tr>\n",
              "  </tbody>\n",
              "</table>\n",
              "</div>"
            ],
            "text/plain": [
              "         fixed acidity  volatile acidity  ...   alcohol   quality\n",
              "cluster                                   ...                    \n",
              "0            -0.646544          0.501291  ...  0.029444 -0.160536\n",
              "1            -0.064045          0.050084  ... -0.546743 -0.437077\n",
              "2             0.945322         -0.733277  ...  0.382773  0.561007\n",
              "\n",
              "[3 rows x 12 columns]"
            ]
          },
          "metadata": {
            "tags": []
          }
        },
        {
          "output_type": "execute_result",
          "data": {
            "text/plain": [
              "0    701\n",
              "2    506\n",
              "1    392\n",
              "dtype: int64"
            ]
          },
          "metadata": {
            "tags": []
          },
          "execution_count": 293
        }
      ]
    },
    {
      "cell_type": "markdown",
      "metadata": {
        "id": "lZ9enK8YS3ww"
      },
      "source": [
        "###**K = 4**"
      ]
    },
    {
      "cell_type": "code",
      "metadata": {
        "colab": {
          "base_uri": "https://localhost:8080/",
          "height": 287
        },
        "id": "7gIPjZmJS6-v",
        "outputId": "2cd93c97-dffd-4b05-c0ed-221f9a879fa0"
      },
      "source": [
        "km4 = KMeans(n_clusters=4, n_init=20)\n",
        "km4.fit(X)\n",
        "\n",
        "X['cluster'] = km4.labels_\n",
        "display(X.groupby('cluster').mean())\n",
        "pd.Series(km4.labels_).value_counts()"
      ],
      "execution_count": 294,
      "outputs": [
        {
          "output_type": "display_data",
          "data": {
            "text/html": [
              "<div>\n",
              "<style scoped>\n",
              "    .dataframe tbody tr th:only-of-type {\n",
              "        vertical-align: middle;\n",
              "    }\n",
              "\n",
              "    .dataframe tbody tr th {\n",
              "        vertical-align: top;\n",
              "    }\n",
              "\n",
              "    .dataframe thead th {\n",
              "        text-align: right;\n",
              "    }\n",
              "</style>\n",
              "<table border=\"1\" class=\"dataframe\">\n",
              "  <thead>\n",
              "    <tr style=\"text-align: right;\">\n",
              "      <th></th>\n",
              "      <th>fixed acidity</th>\n",
              "      <th>volatile acidity</th>\n",
              "      <th>citric acid</th>\n",
              "      <th>residual sugar</th>\n",
              "      <th>chlorides</th>\n",
              "      <th>free sulfur dioxide</th>\n",
              "      <th>total sulfur dioxide</th>\n",
              "      <th>density</th>\n",
              "      <th>pH</th>\n",
              "      <th>sulphates</th>\n",
              "      <th>alcohol</th>\n",
              "      <th>quality</th>\n",
              "    </tr>\n",
              "    <tr>\n",
              "      <th>cluster</th>\n",
              "      <th></th>\n",
              "      <th></th>\n",
              "      <th></th>\n",
              "      <th></th>\n",
              "      <th></th>\n",
              "      <th></th>\n",
              "      <th></th>\n",
              "      <th></th>\n",
              "      <th></th>\n",
              "      <th></th>\n",
              "      <th></th>\n",
              "      <th></th>\n",
              "    </tr>\n",
              "  </thead>\n",
              "  <tbody>\n",
              "    <tr>\n",
              "      <th>0</th>\n",
              "      <td>0.081831</td>\n",
              "      <td>0.017955</td>\n",
              "      <td>1.144178</td>\n",
              "      <td>-0.399396</td>\n",
              "      <td>5.604731</td>\n",
              "      <td>-0.070479</td>\n",
              "      <td>0.474416</td>\n",
              "      <td>0.185803</td>\n",
              "      <td>-1.687357</td>\n",
              "      <td>3.720608</td>\n",
              "      <td>-0.882563</td>\n",
              "      <td>-0.360695</td>\n",
              "    </tr>\n",
              "    <tr>\n",
              "      <th>1</th>\n",
              "      <td>-0.646544</td>\n",
              "      <td>0.501291</td>\n",
              "      <td>-0.783764</td>\n",
              "      <td>-0.228483</td>\n",
              "      <td>-0.171032</td>\n",
              "      <td>-0.260539</td>\n",
              "      <td>-0.371498</td>\n",
              "      <td>-0.425494</td>\n",
              "      <td>0.620381</td>\n",
              "      <td>-0.320930</td>\n",
              "      <td>0.029444</td>\n",
              "      <td>-0.160536</td>\n",
              "    </tr>\n",
              "    <tr>\n",
              "      <th>2</th>\n",
              "      <td>0.996430</td>\n",
              "      <td>-0.776359</td>\n",
              "      <td>1.000406</td>\n",
              "      <td>0.061747</td>\n",
              "      <td>-0.078746</td>\n",
              "      <td>-0.452588</td>\n",
              "      <td>-0.519599</td>\n",
              "      <td>0.370153</td>\n",
              "      <td>-0.669102</td>\n",
              "      <td>0.398460</td>\n",
              "      <td>0.456534</td>\n",
              "      <td>0.614104</td>\n",
              "    </tr>\n",
              "    <tr>\n",
              "      <th>3</th>\n",
              "      <td>-0.065062</td>\n",
              "      <td>0.049038</td>\n",
              "      <td>0.097297</td>\n",
              "      <td>0.363770</td>\n",
              "      <td>-0.012797</td>\n",
              "      <td>1.025623</td>\n",
              "      <td>1.266062</td>\n",
              "      <td>0.296548</td>\n",
              "      <td>-0.169112</td>\n",
              "      <td>-0.187698</td>\n",
              "      <td>-0.545446</td>\n",
              "      <td>-0.436179</td>\n",
              "    </tr>\n",
              "  </tbody>\n",
              "</table>\n",
              "</div>"
            ],
            "text/plain": [
              "         fixed acidity  volatile acidity  ...   alcohol   quality\n",
              "cluster                                   ...                    \n",
              "0             0.081831          0.017955  ... -0.882563 -0.360695\n",
              "1            -0.646544          0.501291  ...  0.029444 -0.160536\n",
              "2             0.996430         -0.776359  ...  0.456534  0.614104\n",
              "3            -0.065062          0.049038  ... -0.545446 -0.436179\n",
              "\n",
              "[4 rows x 12 columns]"
            ]
          },
          "metadata": {
            "tags": []
          }
        },
        {
          "output_type": "execute_result",
          "data": {
            "text/plain": [
              "1    701\n",
              "2    478\n",
              "3    391\n",
              "0     29\n",
              "dtype: int64"
            ]
          },
          "metadata": {
            "tags": []
          },
          "execution_count": 294
        }
      ]
    },
    {
      "cell_type": "markdown",
      "metadata": {
        "id": "Zg9qQUHZXwiA"
      },
      "source": [
        "**Seems like k = 3 is the appropriate number of clusters according to K means evaluation.**"
      ]
    },
    {
      "cell_type": "markdown",
      "metadata": {
        "id": "3U1_ZnCTrJ4d"
      },
      "source": [
        "###**1.2**"
      ]
    },
    {
      "cell_type": "markdown",
      "metadata": {
        "id": "MIeF32u9q_IZ"
      },
      "source": [
        "*Describe variables that cluster with higher values of wine quality. Describe variables that cluster with lower values of wine quality.*"
      ]
    },
    {
      "cell_type": "markdown",
      "metadata": {
        "id": "znSxtbKorAqN"
      },
      "source": [
        "**Alcohol, sulphate, chlorides, citric acid, and fixed acidity levels are all variables associated with high wine quality (positive in the the cluster with the positive wine quality, and negative in the clusters for low wine quality).**\n",
        "\n",
        "**Total sulfur dioxide, free sulfur dioxide, and volatile acidity levels are all variables associated with low wine quality (positive in the the clusters with low wine quality, and negative in the cluster for high wine quality).**\n",
        "\n",
        "**Residual sugar levels, pH, and density do not seem to be conclusive in being specifically clustered with the high quality cluster or the low quality clusters.**"
      ]
    },
    {
      "cell_type": "markdown",
      "metadata": {
        "id": "6TQaN_nnrA8g"
      },
      "source": [
        "*If you want to make a good bottle of wine, then what characteristics are most important according to this analysis?*"
      ]
    },
    {
      "cell_type": "markdown",
      "metadata": {
        "id": "gojAw-PqrD3E"
      },
      "source": [
        "**It seems like having higher alcohol levels in the red wine along with higher citric acid/fixed acid levels while keeping sulfur dioxide levels low should produce a high quality red wine**\n",
        "\n",
        "**This makes sense since sulfur dioxides are usually added to wines in the winemaking process to preserve the wine and protect it from oxidation and undesirable bacteria/yeasts, and so their status as a preservative probably does not contribute to taste quality.**\n",
        "\n",
        "**On the other hand, citric acid is more of a flavor component in wines and it makes sense that more acidic or 'citrusy' are perceived as more tasteful.**"
      ]
    },
    {
      "cell_type": "markdown",
      "metadata": {
        "id": "m5DtJjvhpazK"
      },
      "source": [
        "#**Question 2**"
      ]
    },
    {
      "cell_type": "markdown",
      "metadata": {
        "id": "HB_-gIpLpdFT"
      },
      "source": [
        "*Use Hierarchical Cluster Analysis to identify cluster(s) of observations that have high and low values of the wine quality. (Assume all variables are continuous.) Use complete linkage and the same number of groups that you found to be the most meaningful in question 1.*"
      ]
    },
    {
      "cell_type": "code",
      "metadata": {
        "id": "LwPYHhubpgrI",
        "colab": {
          "base_uri": "https://localhost:8080/",
          "height": 239
        },
        "outputId": "2f72bdbf-ee9a-4198-d563-d6dde9ac63c2"
      },
      "source": [
        "from sklearn.cluster import AgglomerativeClustering\n",
        "\n",
        "ac = AgglomerativeClustering(n_clusters=3, affinity='euclidean', linkage='complete')\n",
        "ac.fit(X)\n",
        "\n",
        "X['cluster'] = ac.labels_\n",
        "display(X.groupby('cluster').mean())\n",
        "pd.Series(ac.labels_).value_counts()"
      ],
      "execution_count": 295,
      "outputs": [
        {
          "output_type": "display_data",
          "data": {
            "text/html": [
              "<div>\n",
              "<style scoped>\n",
              "    .dataframe tbody tr th:only-of-type {\n",
              "        vertical-align: middle;\n",
              "    }\n",
              "\n",
              "    .dataframe tbody tr th {\n",
              "        vertical-align: top;\n",
              "    }\n",
              "\n",
              "    .dataframe thead th {\n",
              "        text-align: right;\n",
              "    }\n",
              "</style>\n",
              "<table border=\"1\" class=\"dataframe\">\n",
              "  <thead>\n",
              "    <tr style=\"text-align: right;\">\n",
              "      <th></th>\n",
              "      <th>fixed acidity</th>\n",
              "      <th>volatile acidity</th>\n",
              "      <th>citric acid</th>\n",
              "      <th>residual sugar</th>\n",
              "      <th>chlorides</th>\n",
              "      <th>free sulfur dioxide</th>\n",
              "      <th>total sulfur dioxide</th>\n",
              "      <th>density</th>\n",
              "      <th>pH</th>\n",
              "      <th>sulphates</th>\n",
              "      <th>alcohol</th>\n",
              "      <th>quality</th>\n",
              "    </tr>\n",
              "    <tr>\n",
              "      <th>cluster</th>\n",
              "      <th></th>\n",
              "      <th></th>\n",
              "      <th></th>\n",
              "      <th></th>\n",
              "      <th></th>\n",
              "      <th></th>\n",
              "      <th></th>\n",
              "      <th></th>\n",
              "      <th></th>\n",
              "      <th></th>\n",
              "      <th></th>\n",
              "      <th></th>\n",
              "    </tr>\n",
              "  </thead>\n",
              "  <tbody>\n",
              "    <tr>\n",
              "      <th>0</th>\n",
              "      <td>0.010636</td>\n",
              "      <td>0.002488</td>\n",
              "      <td>-0.009363</td>\n",
              "      <td>-0.110760</td>\n",
              "      <td>-0.019253</td>\n",
              "      <td>-0.046203</td>\n",
              "      <td>-0.047466</td>\n",
              "      <td>-0.022038</td>\n",
              "      <td>0.007227</td>\n",
              "      <td>-0.003441</td>\n",
              "      <td>0.011494</td>\n",
              "      <td>0.010909</td>\n",
              "    </tr>\n",
              "    <tr>\n",
              "      <th>1</th>\n",
              "      <td>0.074897</td>\n",
              "      <td>-0.350945</td>\n",
              "      <td>3.127368</td>\n",
              "      <td>0.043416</td>\n",
              "      <td>11.116408</td>\n",
              "      <td>0.394484</td>\n",
              "      <td>0.320274</td>\n",
              "      <td>0.770280</td>\n",
              "      <td>-2.663717</td>\n",
              "      <td>5.735193</td>\n",
              "      <td>-0.960246</td>\n",
              "      <td>-1.407158</td>\n",
              "    </tr>\n",
              "    <tr>\n",
              "      <th>2</th>\n",
              "      <td>-0.417763</td>\n",
              "      <td>-0.079303</td>\n",
              "      <td>0.208095</td>\n",
              "      <td>4.309152</td>\n",
              "      <td>0.193589</td>\n",
              "      <td>1.778740</td>\n",
              "      <td>1.831599</td>\n",
              "      <td>0.819306</td>\n",
              "      <td>-0.148137</td>\n",
              "      <td>-0.152837</td>\n",
              "      <td>-0.399389</td>\n",
              "      <td>-0.354288</td>\n",
              "    </tr>\n",
              "  </tbody>\n",
              "</table>\n",
              "</div>"
            ],
            "text/plain": [
              "         fixed acidity  volatile acidity  ...   alcohol   quality\n",
              "cluster                                   ...                    \n",
              "0             0.010636          0.002488  ...  0.011494  0.010909\n",
              "1             0.074897         -0.350945  ... -0.960246 -1.407158\n",
              "2            -0.417763         -0.079303  ... -0.399389 -0.354288\n",
              "\n",
              "[3 rows x 12 columns]"
            ]
          },
          "metadata": {
            "tags": []
          }
        },
        {
          "output_type": "execute_result",
          "data": {
            "text/plain": [
              "0    1557\n",
              "2      40\n",
              "1       2\n",
              "dtype: int64"
            ]
          },
          "metadata": {
            "tags": []
          },
          "execution_count": 295
        }
      ]
    },
    {
      "cell_type": "markdown",
      "metadata": {
        "id": "BycwqwUVxyWJ"
      },
      "source": [
        "**We do not focus on cluster with the small single-digit number of observations.Given the number of observtions in each clusters, our hierchical model seems to suggest k=2 clusters or maybe even no clusters at all (all data is just one cluster).**"
      ]
    },
    {
      "cell_type": "markdown",
      "metadata": {
        "id": "TQ5xkTAppg3Z"
      },
      "source": [
        "*Describe variables that cluster with higher values of wine quality. Describe variables that cluster with lower values of wine quality.*"
      ]
    },
    {
      "cell_type": "markdown",
      "metadata": {
        "id": "i3dnKJf_wbyy"
      },
      "source": [
        "**Alcohol levels, pH, fixed acidity levels, and volatile acidity levels are all variables associated with high wine quality.**\n",
        "\n",
        "**Citric acid, residual sugar, chlorides, free sulfur dioxide, total sulfur dioxide, and density are all variables associated with low wine quality.**\n",
        "\n",
        "**Sulphates levels were inconclusive in determining wine quality.**"
      ]
    },
    {
      "cell_type": "markdown",
      "metadata": {
        "id": "FMl808HBfC1p"
      },
      "source": [
        "###**Dendogram**"
      ]
    },
    {
      "cell_type": "code",
      "metadata": {
        "colab": {
          "base_uri": "https://localhost:8080/",
          "height": 714
        },
        "id": "UdCFnFNhX_jY",
        "outputId": "9841926d-34f2-49c7-dd3a-d77e27aee9a0"
      },
      "source": [
        "from scipy.cluster.hierarchy import linkage\n",
        "from scipy.cluster.hierarchy import dendrogram\n",
        "plt.figure(figsize=(20, 10))\n",
        "\n",
        "row_clusters = linkage(df.values, method='complete', metric='euclidean')\n",
        "\n",
        "row_dendr = dendrogram(row_clusters)\n",
        "\n",
        "plt.tight_layout()\n",
        "plt.ylabel('Euclidean distance')\n",
        "plt.show()"
      ],
      "execution_count": 296,
      "outputs": [
        {
          "output_type": "display_data",
          "data": {
            "image/png": "[encoded data removed]",
            "text/plain": [
              "<Figure size 1440x720 with 1 Axes>"
            ]
          },
          "metadata": {
            "tags": [],
            "needs_background": "light"
          }
        }
      ]
    },
    {
      "cell_type": "markdown",
      "metadata": {
        "id": "YlLGAp2rfH-8"
      },
      "source": [
        "###**Heat Map**"
      ]
    },
    {
      "cell_type": "code",
      "metadata": {
        "colab": {
          "base_uri": "https://localhost:8080/",
          "height": 669
        },
        "id": "w1y9tKfHbWUm",
        "outputId": "063cf3b1-2293-4fcf-a81a-0070be077777"
      },
      "source": [
        "fig = plt.figure(figsize=(40, 20), facecolor='white')\n",
        "axd = fig.add_axes([0.09, 0.1, 0.2, 0.6])\n",
        "\n",
        "# note: for matplotlib < v1.5.1, please use orientation='right'\n",
        "row_dendr = dendrogram(row_clusters, orientation='left')\n",
        "\n",
        "# reorder data with respect to clustering\n",
        "df_rowclust = df.iloc[row_dendr['leaves'][::-1]]\n",
        "\n",
        "axd.set_xticks([])\n",
        "axd.set_yticks([])\n",
        "\n",
        "# remove axes spines from dendrogram\n",
        "for i in axd.spines.values():\n",
        "        i.set_visible(False)\n",
        "\n",
        "# plot heatmap\n",
        "axm = fig.add_axes([0.23, 0.1, 0.6, 0.6])  # x-pos, y-pos, width, height\n",
        "cax = axm.matshow(df_rowclust, interpolation='nearest', cmap='hot_r')\n",
        "fig.colorbar(cax)\n",
        "axm.set_xticklabels([''] + list(df_rowclust.columns))\n",
        "axm.set_yticklabels([''] + list(df_rowclust.index))\n",
        "\n",
        "axm.set_aspect('auto')\n",
        "plt.show()"
      ],
      "execution_count": 297,
      "outputs": [
        {
          "output_type": "display_data",
          "data": {
            "image/png": "[encoded data removed]",
            "text/plain": [
              "<Figure size 2880x1440 with 3 Axes>"
            ]
          },
          "metadata": {
            "tags": []
          }
        }
      ]
    },
    {
      "cell_type": "markdown",
      "metadata": {
        "id": "w39i9br6z_HR"
      },
      "source": [
        "###**2.3**"
      ]
    },
    {
      "cell_type": "markdown",
      "metadata": {
        "id": "tR3_ify7prka"
      },
      "source": [
        "*If you want to make a good bottle of wine, then what characteristics are most important according to this analysis? Have your conclusions changed using Hierarchical clustering rather than k means clustering? Present any figures that assist you in your analysis.*"
      ]
    },
    {
      "cell_type": "markdown",
      "metadata": {
        "id": "QCIXKW1apt4B"
      },
      "source": [
        "**Our hierarchical model is in agreement with k means clustering in terms of alcohol levels and fixed acidity levels being associated with high quality red wine while free and total sulphur dioxide levels are associated with low quality wines.**\n",
        "\n",
        "**However, the  hierarchical model disputes the notion that chloride levels, volatile acidity levels, and citric acid levels are associated with high quality wines and shows they are clustered with lower quality wines instead.**\n",
        "\n",
        "**And while residual sugars levels and pH levels were inconclusive in the K-Means clustering model, they were both clustered with low quality wines and high quality wines, respectively.**\n",
        "\n",
        "**From our heat map (with clusters 0, 1, and 2 from top to bottom, respectively) we can see that residual sugar levels seems to be the most important characteristic in making a good bottle of wine, as it is heavily clustered in the low wine quality cluster (cluster 2: blue line in tree).**\n",
        "\n",
        "**Increasing alcohol levels and fixed acidity levels while reducing free and total sulphur levels seem to also be important characteristics to consider in making a good bottle of wine, given both clustering models' agreement on the effect of those variables on red wine quality.**"
      ]
    },
    {
      "cell_type": "markdown",
      "metadata": {
        "id": "7upwLq7mpwdC"
      },
      "source": [
        "#**Question 3**"
      ]
    },
    {
      "cell_type": "markdown",
      "metadata": {
        "id": "RZJxCpnbpzV0"
      },
      "source": [
        "*Use Principal Components Analysis to reduce the dimensions of your data.*"
      ]
    },
    {
      "cell_type": "code",
      "metadata": {
        "colab": {
          "base_uri": "https://localhost:8080/"
        },
        "id": "eLGXkC62fuWt",
        "outputId": "e3f7ccac-0a1e-4582-8095-dba22a1d4ae3"
      },
      "source": [
        "df.mean()"
      ],
      "execution_count": 298,
      "outputs": [
        {
          "output_type": "execute_result",
          "data": {
            "text/plain": [
              "fixed acidity            8.319637\n",
              "volatile acidity         0.527821\n",
              "citric acid              0.270976\n",
              "residual sugar           2.538806\n",
              "chlorides                0.087467\n",
              "free sulfur dioxide     15.874922\n",
              "total sulfur dioxide    46.467792\n",
              "density                  0.996747\n",
              "pH                       3.311113\n",
              "sulphates                0.658149\n",
              "alcohol                 10.422983\n",
              "quality                  5.636023\n",
              "dtype: float64"
            ]
          },
          "metadata": {
            "tags": []
          },
          "execution_count": 298
        }
      ]
    },
    {
      "cell_type": "code",
      "metadata": {
        "colab": {
          "base_uri": "https://localhost:8080/"
        },
        "id": "99txatnKfzCc",
        "outputId": "22d37701-50a4-4721-b5fb-dca437740f73"
      },
      "source": [
        "df.var()"
      ],
      "execution_count": 299,
      "outputs": [
        {
          "output_type": "execute_result",
          "data": {
            "text/plain": [
              "fixed acidity              3.031416\n",
              "volatile acidity           0.032062\n",
              "citric acid                0.037947\n",
              "residual sugar             1.987897\n",
              "chlorides                  0.002215\n",
              "free sulfur dioxide      109.414884\n",
              "total sulfur dioxide    1082.102373\n",
              "density                    0.000004\n",
              "pH                         0.023835\n",
              "sulphates                  0.028733\n",
              "alcohol                    1.135647\n",
              "quality                    0.652168\n",
              "dtype: float64"
            ]
          },
          "metadata": {
            "tags": []
          },
          "execution_count": 299
        }
      ]
    },
    {
      "cell_type": "code",
      "metadata": {
        "colab": {
          "base_uri": "https://localhost:8080/"
        },
        "id": "oOK_3QNOigbT",
        "outputId": "c34dabc5-48d2-4937-eb74-8f1f00dba827"
      },
      "source": [
        "from sklearn.decomposition import PCA\n",
        "\n",
        "PCA().fit(X).components_.T # We have 13 components"
      ],
      "execution_count": 300,
      "outputs": [
        {
          "output_type": "execute_result",
          "data": {
            "text/plain": [
              "array([[ 0.48743642, -0.00885608, -0.16566914, -0.22756064, -0.09337137,\n",
              "         0.0391673 , -0.31455874,  0.19231231, -0.15881806, -0.18541334,\n",
              "        -0.24603238,  0.62737349, -0.15225956],\n",
              "       [-0.26464632,  0.33583176, -0.23149861,  0.03340465,  0.28873933,\n",
              "         0.26235039, -0.64998117,  0.1304858 , -0.04543131,  0.15297243,\n",
              "         0.38100492,  0.00743328,  0.00933349],\n",
              "       [ 0.47307075, -0.13734983,  0.10070051, -0.0515609 , -0.12104316,\n",
              "         0.14590998,  0.22658212,  0.30892724, -0.21601466,  0.34399812,\n",
              "         0.62506879, -0.07817621, -0.00193816],\n",
              "       [ 0.14105235,  0.17789582,  0.25763746, -0.40207397,  0.68795072,\n",
              "         0.11192316,  0.25165936, -0.14780992,  0.24500019, -0.04641575,\n",
              "         0.06726057,  0.09041632, -0.27304755],\n",
              "       [ 0.19770628,  0.18741808, -0.03529039,  0.64376212,  0.29439618,\n",
              "         0.34574674,  0.20698727, -0.16358719, -0.43342548, -0.00455936,\n",
              "        -0.20827527,  0.05269816, -0.01621953],\n",
              "       [-0.04447053,  0.26748421,  0.60468683, -0.01173362, -0.18351803,\n",
              "        -0.05183404, -0.1434749 , -0.01481205, -0.31466608, -0.58703612,\n",
              "         0.23654945, -0.06133483, -0.01330011],\n",
              "       [ 0.00557306,  0.37025923,  0.5267968 , -0.00588218, -0.2390203 ,\n",
              "         0.1089898 , -0.12069377,  0.08806019,  0.11840574,  0.5903524 ,\n",
              "        -0.35542454,  0.06669222, -0.02619498],\n",
              "       [ 0.37086485,  0.32712076, -0.17272952, -0.20385637,  0.18797483,\n",
              "        -0.43711434, -0.11807637,  0.08401842, -0.24795647,  0.04254632,\n",
              "        -0.23146891, -0.51955753,  0.22325608],\n",
              "       [-0.43260707, -0.06203488,  0.07443773, -0.01160509,  0.24913576,\n",
              "        -0.47864071,  0.18429284,  0.33151118, -0.45615901,  0.20464609,\n",
              "         0.00119537,  0.33245468, -0.08837119],\n",
              "       [ 0.25433427, -0.10844292,  0.20744371,  0.55767719,  0.22473158,\n",
              "        -0.41496299, -0.21369044,  0.25265161,  0.46721107, -0.07094789,\n",
              "         0.097386  ,  0.0617235 , -0.02662424],\n",
              "       [-0.0738337 , -0.49678382,  0.23850644, -0.09760912,  0.24891486,\n",
              "         0.37765386, -0.16590836,  0.47612693, -0.08705856, -0.11132937,\n",
              "        -0.31849583, -0.28183213,  0.14729462],\n",
              "       [ 0.11176524, -0.46872846,  0.23334477, -0.0382467 ,  0.12838416,\n",
              "        -0.15965185, -0.39363635, -0.61808983, -0.25003497,  0.25934847,\n",
              "         0.05434937,  0.01197375,  0.00757657],\n",
              "       [ 0.01617034,  0.06119425,  0.09106905, -0.06700775,  0.12710829,\n",
              "         0.03527068,  0.09932266, -0.06668858,  0.08477478, -0.01429567,\n",
              "         0.07714108,  0.34238145,  0.90605207]])"
            ]
          },
          "metadata": {
            "tags": []
          },
          "execution_count": 300
        }
      ]
    },
    {
      "cell_type": "code",
      "metadata": {
        "id": "bKE1yS_Pp58p",
        "colab": {
          "base_uri": "https://localhost:8080/",
          "height": 450
        },
        "outputId": "fd864ab7-02be-473f-b0f0-40ea208f80cc"
      },
      "source": [
        "pca_loadings = pd.DataFrame(PCA().fit(X).components_.T, index=X.columns, columns=['V1', 'V2', 'V3', 'V4', 'V5', 'V6', 'V7', 'V8', 'V9', 'V10', 'V11', 'V12', 'V13'])\n",
        "pca_loadings"
      ],
      "execution_count": 301,
      "outputs": [
        {
          "output_type": "execute_result",
          "data": {
            "text/html": [
              "<div>\n",
              "<style scoped>\n",
              "    .dataframe tbody tr th:only-of-type {\n",
              "        vertical-align: middle;\n",
              "    }\n",
              "\n",
              "    .dataframe tbody tr th {\n",
              "        vertical-align: top;\n",
              "    }\n",
              "\n",
              "    .dataframe thead th {\n",
              "        text-align: right;\n",
              "    }\n",
              "</style>\n",
              "<table border=\"1\" class=\"dataframe\">\n",
              "  <thead>\n",
              "    <tr style=\"text-align: right;\">\n",
              "      <th></th>\n",
              "      <th>V1</th>\n",
              "      <th>V2</th>\n",
              "      <th>V3</th>\n",
              "      <th>V4</th>\n",
              "      <th>V5</th>\n",
              "      <th>V6</th>\n",
              "      <th>V7</th>\n",
              "      <th>V8</th>\n",
              "      <th>V9</th>\n",
              "      <th>V10</th>\n",
              "      <th>V11</th>\n",
              "      <th>V12</th>\n",
              "      <th>V13</th>\n",
              "    </tr>\n",
              "  </thead>\n",
              "  <tbody>\n",
              "    <tr>\n",
              "      <th>fixed acidity</th>\n",
              "      <td>0.487436</td>\n",
              "      <td>-0.008856</td>\n",
              "      <td>-0.165669</td>\n",
              "      <td>-0.227561</td>\n",
              "      <td>-0.093371</td>\n",
              "      <td>0.039167</td>\n",
              "      <td>-0.314559</td>\n",
              "      <td>0.192312</td>\n",
              "      <td>-0.158818</td>\n",
              "      <td>-0.185413</td>\n",
              "      <td>-0.246032</td>\n",
              "      <td>0.627373</td>\n",
              "      <td>-0.152260</td>\n",
              "    </tr>\n",
              "    <tr>\n",
              "      <th>volatile acidity</th>\n",
              "      <td>-0.264646</td>\n",
              "      <td>0.335832</td>\n",
              "      <td>-0.231499</td>\n",
              "      <td>0.033405</td>\n",
              "      <td>0.288739</td>\n",
              "      <td>0.262350</td>\n",
              "      <td>-0.649981</td>\n",
              "      <td>0.130486</td>\n",
              "      <td>-0.045431</td>\n",
              "      <td>0.152972</td>\n",
              "      <td>0.381005</td>\n",
              "      <td>0.007433</td>\n",
              "      <td>0.009333</td>\n",
              "    </tr>\n",
              "    <tr>\n",
              "      <th>citric acid</th>\n",
              "      <td>0.473071</td>\n",
              "      <td>-0.137350</td>\n",
              "      <td>0.100701</td>\n",
              "      <td>-0.051561</td>\n",
              "      <td>-0.121043</td>\n",
              "      <td>0.145910</td>\n",
              "      <td>0.226582</td>\n",
              "      <td>0.308927</td>\n",
              "      <td>-0.216015</td>\n",
              "      <td>0.343998</td>\n",
              "      <td>0.625069</td>\n",
              "      <td>-0.078176</td>\n",
              "      <td>-0.001938</td>\n",
              "    </tr>\n",
              "    <tr>\n",
              "      <th>residual sugar</th>\n",
              "      <td>0.141052</td>\n",
              "      <td>0.177896</td>\n",
              "      <td>0.257637</td>\n",
              "      <td>-0.402074</td>\n",
              "      <td>0.687951</td>\n",
              "      <td>0.111923</td>\n",
              "      <td>0.251659</td>\n",
              "      <td>-0.147810</td>\n",
              "      <td>0.245000</td>\n",
              "      <td>-0.046416</td>\n",
              "      <td>0.067261</td>\n",
              "      <td>0.090416</td>\n",
              "      <td>-0.273048</td>\n",
              "    </tr>\n",
              "    <tr>\n",
              "      <th>chlorides</th>\n",
              "      <td>0.197706</td>\n",
              "      <td>0.187418</td>\n",
              "      <td>-0.035290</td>\n",
              "      <td>0.643762</td>\n",
              "      <td>0.294396</td>\n",
              "      <td>0.345747</td>\n",
              "      <td>0.206987</td>\n",
              "      <td>-0.163587</td>\n",
              "      <td>-0.433425</td>\n",
              "      <td>-0.004559</td>\n",
              "      <td>-0.208275</td>\n",
              "      <td>0.052698</td>\n",
              "      <td>-0.016220</td>\n",
              "    </tr>\n",
              "    <tr>\n",
              "      <th>free sulfur dioxide</th>\n",
              "      <td>-0.044471</td>\n",
              "      <td>0.267484</td>\n",
              "      <td>0.604687</td>\n",
              "      <td>-0.011734</td>\n",
              "      <td>-0.183518</td>\n",
              "      <td>-0.051834</td>\n",
              "      <td>-0.143475</td>\n",
              "      <td>-0.014812</td>\n",
              "      <td>-0.314666</td>\n",
              "      <td>-0.587036</td>\n",
              "      <td>0.236549</td>\n",
              "      <td>-0.061335</td>\n",
              "      <td>-0.013300</td>\n",
              "    </tr>\n",
              "    <tr>\n",
              "      <th>total sulfur dioxide</th>\n",
              "      <td>0.005573</td>\n",
              "      <td>0.370259</td>\n",
              "      <td>0.526797</td>\n",
              "      <td>-0.005882</td>\n",
              "      <td>-0.239020</td>\n",
              "      <td>0.108990</td>\n",
              "      <td>-0.120694</td>\n",
              "      <td>0.088060</td>\n",
              "      <td>0.118406</td>\n",
              "      <td>0.590352</td>\n",
              "      <td>-0.355425</td>\n",
              "      <td>0.066692</td>\n",
              "      <td>-0.026195</td>\n",
              "    </tr>\n",
              "    <tr>\n",
              "      <th>density</th>\n",
              "      <td>0.370865</td>\n",
              "      <td>0.327121</td>\n",
              "      <td>-0.172730</td>\n",
              "      <td>-0.203856</td>\n",
              "      <td>0.187975</td>\n",
              "      <td>-0.437114</td>\n",
              "      <td>-0.118076</td>\n",
              "      <td>0.084018</td>\n",
              "      <td>-0.247956</td>\n",
              "      <td>0.042546</td>\n",
              "      <td>-0.231469</td>\n",
              "      <td>-0.519558</td>\n",
              "      <td>0.223256</td>\n",
              "    </tr>\n",
              "    <tr>\n",
              "      <th>pH</th>\n",
              "      <td>-0.432607</td>\n",
              "      <td>-0.062035</td>\n",
              "      <td>0.074438</td>\n",
              "      <td>-0.011605</td>\n",
              "      <td>0.249136</td>\n",
              "      <td>-0.478641</td>\n",
              "      <td>0.184293</td>\n",
              "      <td>0.331511</td>\n",
              "      <td>-0.456159</td>\n",
              "      <td>0.204646</td>\n",
              "      <td>0.001195</td>\n",
              "      <td>0.332455</td>\n",
              "      <td>-0.088371</td>\n",
              "    </tr>\n",
              "    <tr>\n",
              "      <th>sulphates</th>\n",
              "      <td>0.254334</td>\n",
              "      <td>-0.108443</td>\n",
              "      <td>0.207444</td>\n",
              "      <td>0.557677</td>\n",
              "      <td>0.224732</td>\n",
              "      <td>-0.414963</td>\n",
              "      <td>-0.213690</td>\n",
              "      <td>0.252652</td>\n",
              "      <td>0.467211</td>\n",
              "      <td>-0.070948</td>\n",
              "      <td>0.097386</td>\n",
              "      <td>0.061724</td>\n",
              "      <td>-0.026624</td>\n",
              "    </tr>\n",
              "    <tr>\n",
              "      <th>alcohol</th>\n",
              "      <td>-0.073834</td>\n",
              "      <td>-0.496784</td>\n",
              "      <td>0.238506</td>\n",
              "      <td>-0.097609</td>\n",
              "      <td>0.248915</td>\n",
              "      <td>0.377654</td>\n",
              "      <td>-0.165908</td>\n",
              "      <td>0.476127</td>\n",
              "      <td>-0.087059</td>\n",
              "      <td>-0.111329</td>\n",
              "      <td>-0.318496</td>\n",
              "      <td>-0.281832</td>\n",
              "      <td>0.147295</td>\n",
              "    </tr>\n",
              "    <tr>\n",
              "      <th>quality</th>\n",
              "      <td>0.111765</td>\n",
              "      <td>-0.468728</td>\n",
              "      <td>0.233345</td>\n",
              "      <td>-0.038247</td>\n",
              "      <td>0.128384</td>\n",
              "      <td>-0.159652</td>\n",
              "      <td>-0.393636</td>\n",
              "      <td>-0.618090</td>\n",
              "      <td>-0.250035</td>\n",
              "      <td>0.259348</td>\n",
              "      <td>0.054349</td>\n",
              "      <td>0.011974</td>\n",
              "      <td>0.007577</td>\n",
              "    </tr>\n",
              "    <tr>\n",
              "      <th>cluster</th>\n",
              "      <td>0.016170</td>\n",
              "      <td>0.061194</td>\n",
              "      <td>0.091069</td>\n",
              "      <td>-0.067008</td>\n",
              "      <td>0.127108</td>\n",
              "      <td>0.035271</td>\n",
              "      <td>0.099323</td>\n",
              "      <td>-0.066689</td>\n",
              "      <td>0.084775</td>\n",
              "      <td>-0.014296</td>\n",
              "      <td>0.077141</td>\n",
              "      <td>0.342381</td>\n",
              "      <td>0.906052</td>\n",
              "    </tr>\n",
              "  </tbody>\n",
              "</table>\n",
              "</div>"
            ],
            "text/plain": [
              "                            V1        V2  ...       V12       V13\n",
              "fixed acidity         0.487436 -0.008856  ...  0.627373 -0.152260\n",
              "volatile acidity     -0.264646  0.335832  ...  0.007433  0.009333\n",
              "citric acid           0.473071 -0.137350  ... -0.078176 -0.001938\n",
              "residual sugar        0.141052  0.177896  ...  0.090416 -0.273048\n",
              "chlorides             0.197706  0.187418  ...  0.052698 -0.016220\n",
              "free sulfur dioxide  -0.044471  0.267484  ... -0.061335 -0.013300\n",
              "total sulfur dioxide  0.005573  0.370259  ...  0.066692 -0.026195\n",
              "density               0.370865  0.327121  ... -0.519558  0.223256\n",
              "pH                   -0.432607 -0.062035  ...  0.332455 -0.088371\n",
              "sulphates             0.254334 -0.108443  ...  0.061724 -0.026624\n",
              "alcohol              -0.073834 -0.496784  ... -0.281832  0.147295\n",
              "quality               0.111765 -0.468728  ...  0.011974  0.007577\n",
              "cluster               0.016170  0.061194  ...  0.342381  0.906052\n",
              "\n",
              "[13 rows x 13 columns]"
            ]
          },
          "metadata": {
            "tags": []
          },
          "execution_count": 301
        }
      ]
    },
    {
      "cell_type": "code",
      "metadata": {
        "colab": {
          "base_uri": "https://localhost:8080/",
          "height": 417
        },
        "id": "bdOpZlsWkBwF",
        "outputId": "c7d580de-8c15-47cb-e446-90bf8b572c9a"
      },
      "source": [
        "pca = PCA()\n",
        "df_plot = pd.DataFrame(pca.fit_transform(X), columns=['PC1', 'PC2', 'PC3', 'PC4', 'PC5', 'PC6', 'PC7', 'PC8', 'PC9', 'PC10', 'PC11', 'PC12', 'PC13'], index=X.index)\n",
        "df_plot"
      ],
      "execution_count": 302,
      "outputs": [
        {
          "output_type": "execute_result",
          "data": {
            "text/html": [
              "<div>\n",
              "<style scoped>\n",
              "    .dataframe tbody tr th:only-of-type {\n",
              "        vertical-align: middle;\n",
              "    }\n",
              "\n",
              "    .dataframe tbody tr th {\n",
              "        vertical-align: top;\n",
              "    }\n",
              "\n",
              "    .dataframe thead th {\n",
              "        text-align: right;\n",
              "    }\n",
              "</style>\n",
              "<table border=\"1\" class=\"dataframe\">\n",
              "  <thead>\n",
              "    <tr style=\"text-align: right;\">\n",
              "      <th></th>\n",
              "      <th>PC1</th>\n",
              "      <th>PC2</th>\n",
              "      <th>PC3</th>\n",
              "      <th>PC4</th>\n",
              "      <th>PC5</th>\n",
              "      <th>PC6</th>\n",
              "      <th>PC7</th>\n",
              "      <th>PC8</th>\n",
              "      <th>PC9</th>\n",
              "      <th>PC10</th>\n",
              "      <th>PC11</th>\n",
              "      <th>PC12</th>\n",
              "      <th>PC13</th>\n",
              "    </tr>\n",
              "  </thead>\n",
              "  <tbody>\n",
              "    <tr>\n",
              "      <th>0</th>\n",
              "      <td>-1.779580</td>\n",
              "      <td>1.136114</td>\n",
              "      <td>-1.403243</td>\n",
              "      <td>-0.067327</td>\n",
              "      <td>0.237271</td>\n",
              "      <td>-0.982668</td>\n",
              "      <td>-0.066465</td>\n",
              "      <td>0.035347</td>\n",
              "      <td>-0.283446</td>\n",
              "      <td>0.070317</td>\n",
              "      <td>-0.253571</td>\n",
              "      <td>0.080185</td>\n",
              "      <td>0.068265</td>\n",
              "    </tr>\n",
              "    <tr>\n",
              "      <th>1</th>\n",
              "      <td>-1.000384</td>\n",
              "      <td>2.065334</td>\n",
              "      <td>-0.045951</td>\n",
              "      <td>0.483313</td>\n",
              "      <td>0.152486</td>\n",
              "      <td>0.588368</td>\n",
              "      <td>-1.404995</td>\n",
              "      <td>-0.223314</td>\n",
              "      <td>0.596741</td>\n",
              "      <td>-0.562819</td>\n",
              "      <td>0.038724</td>\n",
              "      <td>-0.168307</td>\n",
              "      <td>-0.049001</td>\n",
              "    </tr>\n",
              "    <tr>\n",
              "      <th>2</th>\n",
              "      <td>-0.914605</td>\n",
              "      <td>1.377815</td>\n",
              "      <td>-0.733027</td>\n",
              "      <td>0.342508</td>\n",
              "      <td>0.097073</td>\n",
              "      <td>0.222091</td>\n",
              "      <td>-0.720803</td>\n",
              "      <td>-0.122606</td>\n",
              "      <td>0.553729</td>\n",
              "      <td>-0.159610</td>\n",
              "      <td>-0.203081</td>\n",
              "      <td>-0.119780</td>\n",
              "      <td>0.021628</td>\n",
              "    </tr>\n",
              "    <tr>\n",
              "      <th>3</th>\n",
              "      <td>2.401698</td>\n",
              "      <td>-0.228493</td>\n",
              "      <td>0.047983</td>\n",
              "      <td>-0.829350</td>\n",
              "      <td>-1.558704</td>\n",
              "      <td>-0.109887</td>\n",
              "      <td>0.235721</td>\n",
              "      <td>-0.197892</td>\n",
              "      <td>-0.501571</td>\n",
              "      <td>0.237322</td>\n",
              "      <td>-0.096081</td>\n",
              "      <td>0.331345</td>\n",
              "      <td>-0.034004</td>\n",
              "    </tr>\n",
              "    <tr>\n",
              "      <th>4</th>\n",
              "      <td>-1.779580</td>\n",
              "      <td>1.136114</td>\n",
              "      <td>-1.403243</td>\n",
              "      <td>-0.067327</td>\n",
              "      <td>0.237271</td>\n",
              "      <td>-0.982668</td>\n",
              "      <td>-0.066465</td>\n",
              "      <td>0.035347</td>\n",
              "      <td>-0.283446</td>\n",
              "      <td>0.070317</td>\n",
              "      <td>-0.253571</td>\n",
              "      <td>0.080185</td>\n",
              "      <td>0.068265</td>\n",
              "    </tr>\n",
              "    <tr>\n",
              "      <th>...</th>\n",
              "      <td>...</td>\n",
              "      <td>...</td>\n",
              "      <td>...</td>\n",
              "      <td>...</td>\n",
              "      <td>...</td>\n",
              "      <td>...</td>\n",
              "      <td>...</td>\n",
              "      <td>...</td>\n",
              "      <td>...</td>\n",
              "      <td>...</td>\n",
              "      <td>...</td>\n",
              "      <td>...</td>\n",
              "      <td>...</td>\n",
              "    </tr>\n",
              "    <tr>\n",
              "      <th>1594</th>\n",
              "      <td>-2.240305</td>\n",
              "      <td>0.611909</td>\n",
              "      <td>0.771306</td>\n",
              "      <td>0.470274</td>\n",
              "      <td>-0.316449</td>\n",
              "      <td>0.142476</td>\n",
              "      <td>0.274519</td>\n",
              "      <td>0.158065</td>\n",
              "      <td>-0.421111</td>\n",
              "      <td>-1.018315</td>\n",
              "      <td>0.307700</td>\n",
              "      <td>-0.083798</td>\n",
              "      <td>-0.051499</td>\n",
              "    </tr>\n",
              "    <tr>\n",
              "      <th>1595</th>\n",
              "      <td>-2.120911</td>\n",
              "      <td>-0.335102</td>\n",
              "      <td>2.129075</td>\n",
              "      <td>0.497445</td>\n",
              "      <td>0.051466</td>\n",
              "      <td>-0.782399</td>\n",
              "      <td>-0.429415</td>\n",
              "      <td>0.181173</td>\n",
              "      <td>-0.402402</td>\n",
              "      <td>-0.994427</td>\n",
              "      <td>0.459106</td>\n",
              "      <td>-0.262015</td>\n",
              "      <td>-0.007795</td>\n",
              "    </tr>\n",
              "    <tr>\n",
              "      <th>1596</th>\n",
              "      <td>-1.366360</td>\n",
              "      <td>-0.497249</td>\n",
              "      <td>1.249535</td>\n",
              "      <td>0.531901</td>\n",
              "      <td>0.179054</td>\n",
              "      <td>-0.565539</td>\n",
              "      <td>-0.178984</td>\n",
              "      <td>-0.122134</td>\n",
              "      <td>-0.109449</td>\n",
              "      <td>-0.752489</td>\n",
              "      <td>0.226401</td>\n",
              "      <td>-0.409970</td>\n",
              "      <td>0.056654</td>\n",
              "    </tr>\n",
              "    <tr>\n",
              "      <th>1597</th>\n",
              "      <td>-2.365116</td>\n",
              "      <td>0.717193</td>\n",
              "      <td>0.871273</td>\n",
              "      <td>0.686779</td>\n",
              "      <td>0.006321</td>\n",
              "      <td>-0.807479</td>\n",
              "      <td>0.136290</td>\n",
              "      <td>0.616214</td>\n",
              "      <td>-0.357983</td>\n",
              "      <td>-0.726900</td>\n",
              "      <td>0.736078</td>\n",
              "      <td>0.005321</td>\n",
              "      <td>-0.081303</td>\n",
              "    </tr>\n",
              "    <tr>\n",
              "      <th>1598</th>\n",
              "      <td>-0.289480</td>\n",
              "      <td>-1.215069</td>\n",
              "      <td>1.251119</td>\n",
              "      <td>-0.305142</td>\n",
              "      <td>0.225228</td>\n",
              "      <td>-0.141067</td>\n",
              "      <td>1.426469</td>\n",
              "      <td>-0.055570</td>\n",
              "      <td>0.112006</td>\n",
              "      <td>0.312902</td>\n",
              "      <td>0.744568</td>\n",
              "      <td>-0.549570</td>\n",
              "      <td>-0.165517</td>\n",
              "    </tr>\n",
              "  </tbody>\n",
              "</table>\n",
              "<p>1599 rows × 13 columns</p>\n",
              "</div>"
            ],
            "text/plain": [
              "           PC1       PC2       PC3  ...      PC11      PC12      PC13\n",
              "0    -1.779580  1.136114 -1.403243  ... -0.253571  0.080185  0.068265\n",
              "1    -1.000384  2.065334 -0.045951  ...  0.038724 -0.168307 -0.049001\n",
              "2    -0.914605  1.377815 -0.733027  ... -0.203081 -0.119780  0.021628\n",
              "3     2.401698 -0.228493  0.047983  ... -0.096081  0.331345 -0.034004\n",
              "4    -1.779580  1.136114 -1.403243  ... -0.253571  0.080185  0.068265\n",
              "...        ...       ...       ...  ...       ...       ...       ...\n",
              "1594 -2.240305  0.611909  0.771306  ...  0.307700 -0.083798 -0.051499\n",
              "1595 -2.120911 -0.335102  2.129075  ...  0.459106 -0.262015 -0.007795\n",
              "1596 -1.366360 -0.497249  1.249535  ...  0.226401 -0.409970  0.056654\n",
              "1597 -2.365116  0.717193  0.871273  ...  0.736078  0.005321 -0.081303\n",
              "1598 -0.289480 -1.215069  1.251119  ...  0.744568 -0.549570 -0.165517\n",
              "\n",
              "[1599 rows x 13 columns]"
            ]
          },
          "metadata": {
            "tags": []
          },
          "execution_count": 302
        }
      ]
    },
    {
      "cell_type": "markdown",
      "metadata": {
        "id": "6D69l8i1p6Uu"
      },
      "source": [
        "*How much of the variation in your data is explained by the first two principal components?*"
      ]
    },
    {
      "cell_type": "code",
      "metadata": {
        "id": "rKWCxaMzfPGA",
        "colab": {
          "base_uri": "https://localhost:8080/"
        },
        "outputId": "d90c93fa-b7e7-4a10-dfd3-2bb4d126e063"
      },
      "source": [
        "# Standard deviation of all 13 principal components\n",
        "np.sqrt(pca.explained_variance_)"
      ],
      "execution_count": 303,
      "outputs": [
        {
          "output_type": "execute_result",
          "data": {
            "text/plain": [
              "array([1.76745583, 1.50038965, 1.30280662, 1.10490817, 0.99470517,\n",
              "       0.81468273, 0.79041182, 0.7130426 , 0.64382731, 0.57287817,\n",
              "       0.42568915, 0.24955704, 0.20134139])"
            ]
          },
          "metadata": {
            "tags": []
          },
          "execution_count": 303
        }
      ]
    },
    {
      "cell_type": "code",
      "metadata": {
        "id": "99wS6DKgfPGL",
        "colab": {
          "base_uri": "https://localhost:8080/"
        },
        "outputId": "0f9ac7eb-9588-4d75-fb32-237bab853a58"
      },
      "source": [
        "# Explained variance of each of the 13 princicpal components\n",
        "pca.explained_variance_"
      ],
      "execution_count": 304,
      "outputs": [
        {
          "output_type": "execute_result",
          "data": {
            "text/plain": [
              "array([3.12390011, 2.2511691 , 1.6973051 , 1.22082205, 0.98943838,\n",
              "       0.66370795, 0.62475084, 0.50842975, 0.41451361, 0.3281894 ,\n",
              "       0.18121125, 0.06227871, 0.04053835])"
            ]
          },
          "metadata": {
            "tags": []
          },
          "execution_count": 304
        }
      ]
    },
    {
      "cell_type": "code",
      "metadata": {
        "id": "qDeAVWKafPGZ",
        "colab": {
          "base_uri": "https://localhost:8080/"
        },
        "outputId": "796ce4b3-531e-4cf6-85c0-526f01f8f067"
      },
      "source": [
        "# Proportion of variance explained for each of the 13 principal components\n",
        "pca.explained_variance_ratio_"
      ],
      "execution_count": 305,
      "outputs": [
        {
          "output_type": "execute_result",
          "data": {
            "text/plain": [
              "array([0.25804018, 0.18595091, 0.14020068, 0.10084226, 0.08172952,\n",
              "       0.05482356, 0.05160563, 0.04199728, 0.03423962, 0.02710908,\n",
              "       0.0149684 , 0.00514434, 0.00334855])"
            ]
          },
          "metadata": {
            "tags": []
          },
          "execution_count": 305
        }
      ]
    },
    {
      "cell_type": "markdown",
      "metadata": {
        "id": "yxDnXgpzlYzs"
      },
      "source": [
        "**It seems like our first 2 principal components contribute 0.2593 + 0.1856 = 0.4449 ~ 44.5% of variation in data accounted for by the first 2 principal components. This can also be seen in the figure below on the 'cumulative' curve when 'Principal Component' is equal to 2. 44.5% does not seem sufficient in terms of accounting for variation, since we are aiming around the >70% range.**"
      ]
    },
    {
      "cell_type": "code",
      "metadata": {
        "colab": {
          "base_uri": "https://localhost:8080/",
          "height": 334
        },
        "id": "kcKPYUcSk-Rc",
        "outputId": "ecde93af-af8c-44c4-ae4b-508b5326fa35"
      },
      "source": [
        "plt.figure(figsize=(7,5))\n",
        "\n",
        "plt.plot([1,2,3,4,5,6,7,8,9,10,11,12,13], pca.explained_variance_ratio_, '-o', label='Individual component')\n",
        "plt.plot([1,2,3,4,5,6,7,8,9,10,11,12,13], np.cumsum(pca.explained_variance_ratio_), '-s', label='Cumulative')\n",
        "\n",
        "plt.ylabel('Proportion of Variance Explained')\n",
        "plt.xlabel('Principal Component')\n",
        "plt.xlim(0.75,4.25)\n",
        "plt.ylim(0,1.05)\n",
        "plt.xticks([1,2,3,4,5,6,7,8,9,10,11,12])\n",
        "plt.legend(loc=2);"
      ],
      "execution_count": 306,
      "outputs": [
        {
          "output_type": "display_data",
          "data": {
            "image/png": "[encoded data removed]",
            "text/plain": [
              "<Figure size 504x360 with 1 Axes>"
            ]
          },
          "metadata": {
            "tags": [],
            "needs_background": "light"
          }
        }
      ]
    },
    {
      "cell_type": "markdown",
      "metadata": {
        "id": "hQJQkS3A6D6m"
      },
      "source": [
        "**We see that we can explain ~80% of the variation in our data with only the first 5-6 principal components.**"
      ]
    },
    {
      "cell_type": "markdown",
      "metadata": {
        "id": "GAbzbfJvqDqZ"
      },
      "source": [
        "*How might you use the first two components to do supervised learning on some other variable tied to wine (e.g. - wine price)?*"
      ]
    },
    {
      "cell_type": "markdown",
      "metadata": {
        "id": "ols-bZ5rqH0Y"
      },
      "source": [
        "**Given that the first two components refer to the plane closest to our observations (closest in terms of average squared Euclidean distance of the plane from the observations), what we basically did was reduce the dimensions of our data to the variables that explain around 45% of our data. We could take our transformed X data (with reduced number of dimensions/variables) and then fit, train, and test them using supervised learning methods (classifier or regressor methods depending on whether said other variable (e.g. wine price) is a categorical or continuous outcome variable.**"
      ]
    }
  ]
}